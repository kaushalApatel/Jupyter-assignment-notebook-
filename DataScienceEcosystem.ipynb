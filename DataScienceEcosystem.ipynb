{
 "cells": [
  {
   "cell_type": "markdown",
   "id": "89f65934-cf70-4647-8ad8-7e2d63e2364f",
   "metadata": {},
   "source": [
    "# Data Science Tools and Ecosystem"
   ]
  },
  {
   "cell_type": "markdown",
   "id": "422be09d-e688-440e-9b31-5af85819b0a6",
   "metadata": {},
   "source": [
    "In this notebook, Data Science Tools and Ecosystem are summarized."
   ]
  },
  {
   "cell_type": "markdown",
   "id": "1c258864-a1a7-4efc-a8db-7b756c1d103d",
   "metadata": {},
   "source": [
    "Some of the popular languages that Data Scientists use are:\n",
    "1. Python\n",
    "2. R\n",
    "3. SQL\n",
    "4. Scala"
   ]
  },
  {
   "cell_type": "markdown",
   "id": "f4406765-84ee-4b03-a95e-95060f6c64f9",
   "metadata": {},
   "source": [
    "Some of the commonly used libraries used by Data Scientists include:\n",
    "1. Numpy\n",
    "2. Scipy\n",
    "3. Tensorflow"
   ]
  },
  {
   "cell_type": "markdown",
   "id": "f48a8510-be65-4dce-bf3a-1352aedc4030",
   "metadata": {},
   "source": [
    "Data Science Tools:\n",
    "1. IBM watson Studio\n",
    "2. Rstudio\n",
    "3. Apache spark\n",
    "4. Tableau"
   ]
  },
  {
   "cell_type": "markdown",
   "id": "67bbe23d-30b1-4475-8d4b-7722b07cc594",
   "metadata": {},
   "source": [
    "### Below are a few examples of evaluating arithmetic expressions in Python"
   ]
  },
  {
   "cell_type": "code",
   "execution_count": 1,
   "id": "11c9dd91-0031-4c69-962c-b678747d5634",
   "metadata": {},
   "outputs": [
    {
     "data": {
      "text/plain": [
       "17"
      ]
     },
     "execution_count": 1,
     "metadata": {},
     "output_type": "execute_result"
    }
   ],
   "source": [
    "# This a simple arithmetic expression to mutiply then add integers\n",
    "(3*4)+5"
   ]
  },
  {
   "cell_type": "code",
   "execution_count": 2,
   "id": "c49570a5-07ff-4279-ae61-8f67d14f365d",
   "metadata": {},
   "outputs": [
    {
     "name": "stdout",
     "output_type": "stream",
     "text": [
      "3.3333333333333335\n"
     ]
    }
   ],
   "source": [
    "# This will convert 200 minutes to hours by diving by 60\n",
    "m = 200\n",
    "hours = 200/60\n",
    "print(hours)"
   ]
  },
  {
   "cell_type": "markdown",
   "id": "1e6d1537-09ab-4347-bfca-5470dd0cd703",
   "metadata": {},
   "source": [
    "**Objectives:**\n",
    "- List popular languages used in data science\n",
    "    - Python\n",
    "    - R\n",
    "    - Scala \n",
    "- List of tools for data science\n",
    "    - IBM watson studio\n",
    "    - IBM SPSS studio\n",
    "    - Rstudio\n",
    "    - Tableau \n",
    "- List of libraries\n",
    "    - Pytorch\n",
    "    - Tensorflow\n",
    "    - Numpy\n",
    "    - Scipy\n"
   ]
  },
  {
   "cell_type": "markdown",
   "id": "4e7d2c7d-3005-44cc-9fa7-1359128be939",
   "metadata": {},
   "source": [
    "## Author\n",
    "Kaushal Patel."
   ]
  },
  {
   "cell_type": "code",
   "execution_count": null,
   "id": "dba3539c-c4f8-426a-80cf-314df603d0fe",
   "metadata": {},
   "outputs": [],
   "source": []
  }
 ],
 "metadata": {
  "kernelspec": {
   "display_name": "Python",
   "language": "python",
   "name": "conda-env-python-py"
  },
  "language_info": {
   "codemirror_mode": {
    "name": "ipython",
    "version": 3
   },
   "file_extension": ".py",
   "mimetype": "text/x-python",
   "name": "python",
   "nbconvert_exporter": "python",
   "pygments_lexer": "ipython3",
   "version": "3.7.12"
  }
 },
 "nbformat": 4,
 "nbformat_minor": 5
}
